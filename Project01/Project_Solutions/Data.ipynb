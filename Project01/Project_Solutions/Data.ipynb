{
 "cells": [
  {
   "cell_type": "code",
   "execution_count": null,
   "id": "6888040d",
   "metadata": {
    "scrolled": false
   },
   "outputs": [],
   "source": [
    "# Import Libs\n",
    "import seaborn as sns\n",
    "import pandas as pd\n",
    "import matplotlib.pyplot as plt\n",
    "import graphviz\n",
    "import copy\n",
    "import numpy\n",
    "import time\n",
    "import altair as alt\n",
    "\n",
    "from sklearn import datasets, tree\n",
    "from sklearn.model_selection import train_test_split\n",
    "from sklearn.metrics import classification_report\n",
    "from sklearn.neighbors import KNeighborsClassifier\n",
    "from os import system\n",
    "from IPython.display import Image\n",
    "\n",
    "%matplotlib inline"
   ]
  },
  {
   "cell_type": "code",
   "execution_count": null,
   "id": "1365d61c",
   "metadata": {
    "scrolled": false
   },
   "outputs": [],
   "source": [
    "# Import the data and name the collums\n",
    "adultDf = pd.read_csv(\"adult.data\",header=None, index_col=False, \n",
    "                      names=['age', 'workclass', 'fnlwgt', \"education\", \"education_num\", \n",
    "                             \"martial-stat\", \"occupation\", \"relationship\", \"race\", \"sex\", \n",
    "                             \"cap-gains\", \"cap_loss\", \"hpw\", \"native_country\", \"50k\"])"
   ]
  },
  {
   "cell_type": "code",
   "execution_count": null,
   "id": "a565ccd3",
   "metadata": {
    "scrolled": false
   },
   "outputs": [],
   "source": [
    "# Give us a first look and check wether it looks ok\n",
    "adultDf"
   ]
  },
  {
   "cell_type": "code",
   "execution_count": null,
   "id": "78957dd6",
   "metadata": {
    "scrolled": false
   },
   "outputs": [],
   "source": [
    "# Replace some Data to make it easier to work with:\n",
    "# Add an Index:\n",
    "# adultDf['Index'] = adultDf.index\n",
    "# >50k -> 1, <=50k ->0\n",
    "adultDf['50k'] = adultDf['50k'].replace(to_replace=' >50K', value=1)\n",
    "adultDf['50k'] = adultDf['50k'].replace(to_replace=' <=50K', value=0)\n",
    "\n",
    "# Education itself is roughly Ordinal, so lets Order it relativly arbitrarily and replace them with Numbers \n",
    "# according to the following, where we give the assoiate degrees amd Some collega the same value as they \n",
    "# are all rougly equal:\n",
    "# Preschool, 1st-4th, 5th-6th, 7th-8th, 9th, 10th, 11th, 12th, HS-grad, Assoc-voc, Assoc-acdm, \n",
    "# Some-college, Bachelors, Masters, Prof-school, Doctorate,  \n",
    "adultDf['education'] = adultDf['education'].replace(to_replace=' Preschool', value=0 )\n",
    "adultDf['education'] = adultDf['education'].replace(to_replace=' 1st-4th', value=1)\n",
    "adultDf['education'] = adultDf['education'].replace(to_replace=' 5th-6th', value=2 )\n",
    "adultDf['education'] = adultDf['education'].replace(to_replace=' 7th-8th', value=3)\n",
    "adultDf['education'] = adultDf['education'].replace(to_replace=' 9th', value=4 )\n",
    "adultDf['education'] = adultDf['education'].replace(to_replace=' 10th', value=5)\n",
    "adultDf['education'] = adultDf['education'].replace(to_replace=' 11th', value=6 )\n",
    "adultDf['education'] = adultDf['education'].replace(to_replace=' 12th', value=7 )\n",
    "adultDf['education'] = adultDf['education'].replace(to_replace=' HS-grad', value=8 )\n",
    "adultDf['education'] = adultDf['education'].replace(to_replace=' Assoc-voc', value=9)\n",
    "adultDf['education'] = adultDf['education'].replace(to_replace=' Assoc-acdm', value=9 )\n",
    "adultDf['education'] = adultDf['education'].replace(to_replace=' Some-college', value=9 )\n",
    "adultDf['education'] = adultDf['education'].replace(to_replace=' Bachelors', value=10)\n",
    "adultDf['education'] = adultDf['education'].replace(to_replace=' Masters', value=11 )\n",
    "adultDf['education'] = adultDf['education'].replace(to_replace=' Prof-school', value=12 )\n",
    "adultDf['education'] = adultDf['education'].replace(to_replace=' Doctorate', value=13 )\n",
    "# Then print the New Dataframe to check:\n",
    "adultDf"
   ]
  },
  {
   "cell_type": "markdown",
   "id": "cb8823bd",
   "metadata": {},
   "source": [
    "### Now lets Plot Stuff:\n",
    "\n",
    "\n",
    "#### First Age Education and Income Correlation"
   ]
  },
  {
   "cell_type": "code",
   "execution_count": null,
   "id": "6b51aed1",
   "metadata": {
    "scrolled": false
   },
   "outputs": [],
   "source": [
    "g = sns.FacetGrid(adultDf, hue='50k', height=5)\n",
    "g.map(sns.scatterplot, \"education\", \"age\" )\n",
    "g.add_legend()"
   ]
  },
  {
   "cell_type": "markdown",
   "id": "1dfbd898",
   "metadata": {},
   "source": [
    "#### We can see that apperantly Both Age and Education correlate with making over 50k, with Education being very Important "
   ]
  },
  {
   "cell_type": "code",
   "execution_count": null,
   "id": "4c5e775e",
   "metadata": {
    "scrolled": false
   },
   "outputs": [],
   "source": [
    "g = sns.FacetGrid(adultDf, height=5)\n",
    "g.map(sns.scatterplot, \"education\", \"education_num\" )\n",
    "g.add_legend()"
   ]
  },
  {
   "cell_type": "markdown",
   "id": "61c4a9b8",
   "metadata": {},
   "source": [
    "##### Eductaion and Education_Num are basically the same. So we can ignore Education and solly focus on Education_num"
   ]
  },
  {
   "cell_type": "code",
   "execution_count": null,
   "id": "68d2bed6",
   "metadata": {
    "scrolled": false
   },
   "outputs": [],
   "source": [
    "sns.catplot( y=\"fnlwgt\", x='50k', kind=\"box\", data=adultDf, height=10)"
   ]
  },
  {
   "cell_type": "markdown",
   "id": "888c9f5c",
   "metadata": {},
   "source": [
    "##### It seams whatever fnlwgt is its pretty much unkorrelated with our question. \n",
    "\n",
    "##### Lets Check for general Class imbalance and Sex Imbalance"
   ]
  },
  {
   "cell_type": "code",
   "execution_count": null,
   "id": "0ef807c1",
   "metadata": {},
   "outputs": [],
   "source": [
    "print(\"# of all people: \" + str( len(adultDf) ) )\n",
    "adultDf50k = adultDf[ adultDf['50k']==1 ]\n",
    "print(\"# of People >50k: \" + str( len(adultDf50k) ) )\n",
    "print(\"# of Woman: \" + str( len(adultDf[adultDf['sex'] == \" Female\" ]) ) )\n",
    "print(\"# of Man: \" + str( len(adultDf[adultDf['sex'] == \" Male\" ]) ) )\n",
    "print(\"# of Woman >50k: \" + str( len(adultDf50k[adultDf50k['sex'] == \" Female\" ]) ) )\n",
    "print(\"# of Man >50k: \" + str( len(adultDf50k[adultDf50k['sex'] == \" Male\" ]) ) )"
   ]
  },
  {
   "cell_type": "markdown",
   "id": "f8c89cce",
   "metadata": {},
   "source": [
    "### As we see there is a strong Class inbalance in the Data.\n",
    "\n",
    "#### 1. only ~ 1/4 is over 50k, so a cassifier just saying \"below 50k\" will have a 75% accuracy\n",
    "#### 2. Woman are generally underrepresented ~2:1\n",
    "#### 3. In the group of people over 50k woman are underrepresented ~6:1, so another ~3:1 more than we expect for a 2:1 distribiution. \n",
    "\n",
    "#### This will propbably cause problems which we will have to adress in 3.5"
   ]
  },
  {
   "cell_type": "code",
   "execution_count": null,
   "id": "50c49315",
   "metadata": {},
   "outputs": [],
   "source": [
    "sns.catplot( y='sex', hue='50k', kind=\"count\", height=6, aspect=2, data=adultDf)"
   ]
  },
  {
   "cell_type": "code",
   "execution_count": null,
   "id": "2f5e24f2",
   "metadata": {
    "scrolled": false
   },
   "outputs": [],
   "source": [
    "### Lets Check for an Sex, Race imbalance in eductation and Income:\n",
    "g = sns.FacetGrid(adultDf, col=\"sex\", hue='50k', height=5)\n",
    "g.map(plt.scatter, \"education_num\", \"age\")\n",
    "\n",
    "h = sns.FacetGrid(adultDf, col=\"race\", hue='50k',height=5, col_wrap=2 )\n",
    "h.map(plt.scatter, \"education_num\", \"age\" )"
   ]
  },
  {
   "cell_type": "markdown",
   "id": "9be2e16f",
   "metadata": {},
   "source": [
    "#### We see that Males are on Average more in the 50K group, than Females.\n",
    "#### We see that Whites and Asians even more are better educated than Blacks Others, which as we already know correlates with higher Wages\n",
    "#### We see that we have way more Data for White and Black than for the Others, with Asians in the Middle"
   ]
  },
  {
   "cell_type": "code",
   "execution_count": null,
   "id": "a7413bc8",
   "metadata": {
    "scrolled": false
   },
   "outputs": [],
   "source": [
    "occupationstotal = adultDf['occupation'].value_counts()\n",
    "occupation50k = adultDf.loc[adultDf['50k'] == 1]['occupation'].value_counts()\n",
    "#print(occupationstotal)\n",
    "#print(occupation50k)\n",
    "occuppercentages = round(occupation50k / occupationstotal * 100,2)\n",
    "print(occuppercentages)"
   ]
  },
  {
   "cell_type": "markdown",
   "id": "f7743f12",
   "metadata": {},
   "source": [
    "#### We can see for Occupation that there are High paying fields with >35%, middle fields with 10%-35% and low paying fields <10%"
   ]
  },
  {
   "cell_type": "code",
   "execution_count": null,
   "id": "d6474b8f",
   "metadata": {
    "scrolled": false
   },
   "outputs": [],
   "source": [
    "sns.catplot( y='workclass', hue='50k', kind=\"count\", height=6, aspect=2, data=adultDf)\n",
    "sns.catplot( y='occupation', hue='50k', kind=\"count\", height=6, aspect=2, data=adultDf)\n",
    "sns.catplot( y='martial-stat', hue='50k', kind=\"count\", height=6, aspect=2, data=adultDf)\n",
    "sns.catplot( y='relationship', hue='50k', kind=\"count\", height=6, aspect=2, data=adultDf)"
   ]
  },
  {
   "cell_type": "markdown",
   "id": "4196e58f",
   "metadata": {},
   "source": [
    "#### We see Workclass and Occupation obviously matter, with Occupation beeing very Important\n",
    "\n",
    "#### We also see that relationship status (and marital status which overlap)  have significant influence on the income, although this might be an indirect correlation through Age\n",
    "\n",
    "#### Lets Test this:"
   ]
  },
  {
   "cell_type": "code",
   "execution_count": null,
   "id": "09f072a7",
   "metadata": {
    "scrolled": false
   },
   "outputs": [],
   "source": [
    "sns.catplot( y=\"age\", x='martial-stat', kind=\"box\", data=adultDf, height=7, aspect= 2.5)"
   ]
  },
  {
   "cell_type": "markdown",
   "id": "79d8e425",
   "metadata": {},
   "source": [
    "#### As we see a stable martial Relationship is Older than non Relationships, but Widdowed People are even Older and their high Income is rarer than of the married ones"
   ]
  },
  {
   "cell_type": "markdown",
   "id": "63c82534",
   "metadata": {},
   "source": [
    "#### Lets Take a Look at the Working Hours: "
   ]
  },
  {
   "cell_type": "code",
   "execution_count": null,
   "id": "1b67fd02",
   "metadata": {
    "scrolled": false
   },
   "outputs": [],
   "source": [
    "sns.catplot( y=\"hpw\", x='50k', kind=\"box\", data=adultDf, height=10, aspect= 1)"
   ]
  },
  {
   "cell_type": "markdown",
   "id": "e735797d",
   "metadata": {},
   "source": [
    "#### Those who make over 50k work on average and in the mean a couple hours more. But the Spread of both is quite high\n",
    "\n",
    "\n",
    "#### Lets Check Capital Gains and Capital Losses:"
   ]
  },
  {
   "cell_type": "code",
   "execution_count": null,
   "id": "b35a509a",
   "metadata": {
    "scrolled": false
   },
   "outputs": [],
   "source": [
    "g = sns.FacetGrid(adultDf, hue='50k', height=5)\n",
    "g.map(sns.scatterplot, \"cap_loss\", \"cap-gains\")\n",
    "g.add_legend()"
   ]
  },
  {
   "cell_type": "markdown",
   "id": "1de6a518",
   "metadata": {},
   "source": [
    "#### Ok, obviously people have either one or the other, but not both, we could therefor simplfy into: cap-gain-new = cap-gain - caploss\n",
    "#### Also who is this person who made >40k in capital gains jet had <=50k income? Probably a Retiree who does not work anymore.\n",
    "\n",
    "#### Finally lets Check the Native Country"
   ]
  },
  {
   "cell_type": "code",
   "execution_count": null,
   "id": "777b69d7",
   "metadata": {
    "scrolled": false
   },
   "outputs": [],
   "source": [
    "sns.catplot( y='native_country', hue='50k', kind=\"count\", height=6, aspect=2, data=adultDf)"
   ]
  },
  {
   "cell_type": "markdown",
   "id": "a7a77e7b",
   "metadata": {},
   "source": [
    "#### Great, basically all our Data is from the US, this is strong Class imbalance. Lets first check the Rest of People"
   ]
  },
  {
   "cell_type": "code",
   "execution_count": null,
   "id": "618b89c9",
   "metadata": {
    "scrolled": false
   },
   "outputs": [],
   "source": [
    "adultDf_nonUS = adultDf.copy()\n",
    "adultDf_nonUS = adultDf_nonUS[adultDf_nonUS.native_country != ' United-States']\n",
    "sns.catplot( y='native_country', hue='50k', kind=\"count\", height=6, aspect=2, data=adultDf_nonUS)"
   ]
  },
  {
   "cell_type": "markdown",
   "id": "4b80d55c",
   "metadata": {},
   "source": [
    "### Here we can now see that some Countries like Japan have a high ratio of high earners, while other countries like Mexico have a high ratio nof low earners. So this is an important information"
   ]
  },
  {
   "cell_type": "code",
   "execution_count": null,
   "id": "6a296a43",
   "metadata": {
    "scrolled": false
   },
   "outputs": [],
   "source": [
    "matrix = adultDf.corr(method='kendall')\n",
    "mask = numpy.triu(numpy.ones_like(matrix, dtype=bool))\n",
    "cmap = sns.diverging_palette(230, 20, as_cmap=True)\n",
    "sns.heatmap(matrix, mask=mask, cmap=cmap, vmax=.3, center=0, square=True, linewidths=.5, cbar_kws={\"shrink\": .5})"
   ]
  },
  {
   "cell_type": "code",
   "execution_count": null,
   "id": "65ff76dd",
   "metadata": {
    "scrolled": false
   },
   "outputs": [],
   "source": [
    "adultDf_num = adultDf.copy()\n",
    "cat_columns = adultDf_num .select_dtypes(['object']).columns\n",
    "adultDf_num [cat_columns] = adultDf_num [cat_columns].apply(lambda x: pd.factorize(x)[0])\n",
    "\n",
    "corrMatrix = adultDf_num .corr()"
   ]
  },
  {
   "cell_type": "code",
   "execution_count": null,
   "id": "65067b3e",
   "metadata": {
    "scrolled": false
   },
   "outputs": [],
   "source": [
    "# Generate a mask for the upper triangle\n",
    "mask = numpy.triu(numpy.ones_like(corrMatrix, dtype=bool))\n",
    "\n",
    "# Set up the matplotlib figure\n",
    "f, ax = plt.subplots(figsize=(14, 14))\n",
    "\n",
    "# Generate a custom diverging colormap\n",
    "cmap = sns.diverging_palette(230, 20, as_cmap=True)\n",
    "\n",
    "# Draw the heatmap with the mask and correct aspect ratio\n",
    "sns.heatmap(corrMatrix, mask=mask, cmap=cmap, vmax=.45,vmin=-0.45, center=0,\n",
    "            square=True, annot=corrMatrix, linewidths=.5, cbar_kws={\"shrink\": .3})"
   ]
  },
  {
   "cell_type": "markdown",
   "id": "b159f44a",
   "metadata": {},
   "source": [
    "### Lets look now at some normalized graphs to ensure our findings are true:\n",
    "\n",
    "#### We do this using altair, because of slight differences in internal functionality we reimport the data etc..."
   ]
  },
  {
   "cell_type": "code",
   "execution_count": null,
   "id": "13d76df2",
   "metadata": {
    "scrolled": false
   },
   "outputs": [],
   "source": [
    "colnames=['age','workclass','fnlwgt','education','education-num','marital-status','occupation','relationship','race','sex','capital-gain','capital-loss','hours-per-week','native-country', 'income']\n",
    "df = pd.read_csv('adult.data', names=colnames, header=None)\n",
    "df.head()"
   ]
  },
  {
   "cell_type": "code",
   "execution_count": null,
   "id": "9acd5233",
   "metadata": {
    "scrolled": false
   },
   "outputs": [],
   "source": [
    "df.info()\n",
    "# Remove invalid data from table\n",
    "rows_to_remove = len(df) - len(df[(df.astype(str) != ' ?').all(axis=1)])\n",
    "print('Removing ',rows_to_remove,'rows, containing \\\"?\\\" in one of the columns.') \n",
    "df = df[(df.astype(str) != ' ?').all(axis=1)]\n",
    "print(len(df), 'rows remaining')"
   ]
  },
  {
   "cell_type": "markdown",
   "id": "6e1e2352",
   "metadata": {},
   "source": [
    "#### Lets Look ate the Normaized Bargraphs"
   ]
  },
  {
   "cell_type": "code",
   "execution_count": null,
   "id": "02e2d33d",
   "metadata": {
    "scrolled": false
   },
   "outputs": [],
   "source": [
    "# One of us needed one of those comands, the other one the other. \n",
    "# If this block does not work, comment one out and the other in.\n",
    "#alt.data_transformers.enable('data_server')\n",
    "alt.data_transformers.enable('default', max_rows=None)"
   ]
  },
  {
   "cell_type": "code",
   "execution_count": null,
   "id": "1a857172",
   "metadata": {
    "scrolled": false
   },
   "outputs": [],
   "source": [
    "age_normd = alt.Chart(df).mark_bar().encode(\n",
    "    x=alt.X('count():Q', stack=\"normalize\"),\n",
    "    y=alt.Y('age:Q', bin=True),\n",
    "    color='income'\n",
    ")\n",
    "\n",
    "age = alt.hconcat(age_normd).properties(\n",
    " title=\"Age\",\n",
    ")\n",
    "age"
   ]
  },
  {
   "cell_type": "code",
   "execution_count": null,
   "id": "c60cc397",
   "metadata": {
    "scrolled": false
   },
   "outputs": [],
   "source": [
    "workclass_normd =  alt.Chart(df).mark_bar().encode(\n",
    "    alt.Y(\"workclass:N\", sort=alt.EncodingSortField(field=\"workclass\", op=\"count\", order='descending')),\n",
    "    x= alt.X('count()', stack=\"normalize\"),\n",
    "    color='income'\n",
    ")\n",
    "\n",
    "workclassN = (workclass_normd).properties(\n",
    " title=\"Workclass Normed\"\n",
    ")\n",
    "workclassN\n"
   ]
  },
  {
   "cell_type": "code",
   "execution_count": null,
   "id": "383e5c2a",
   "metadata": {
    "scrolled": false
   },
   "outputs": [],
   "source": [
    "occupation_normd =  alt.Chart(df).mark_bar().encode(\n",
    "    alt.Y(\"occupation:N\", sort=alt.EncodingSortField(field=\"occupation\", op=\"count\", order='descending')),\n",
    "    x= alt.X('count()', stack=\"normalize\"),\n",
    "    color='income:N'\n",
    ")\n",
    "\n",
    "occupation = (occupation_normd).properties(\n",
    " title=\"Occupation\",\n",
    ")\n",
    "occupation"
   ]
  },
  {
   "cell_type": "code",
   "execution_count": null,
   "id": "03a7115b",
   "metadata": {
    "scrolled": false
   },
   "outputs": [],
   "source": [
    "race_normd =  alt.Chart(df).mark_bar().encode(\n",
    "    alt.Y(\"race:N\", sort=alt.EncodingSortField(field=\"race\", op=\"count\", order='descending')),\n",
    "    x= alt.X('count()', stack=\"normalize\"),\n",
    "    color='income'\n",
    ")\n",
    "\n",
    "race = (race_normd).properties(\n",
    " title=\"Race\",\n",
    ")\n",
    "race"
   ]
  },
  {
   "cell_type": "code",
   "execution_count": null,
   "id": "673a977b",
   "metadata": {
    "scrolled": false
   },
   "outputs": [],
   "source": [
    "country_normd =  alt.Chart(df).mark_bar().encode(\n",
    "    alt.Y(\"native-country:N\", sort=alt.EncodingSortField(field=\"native-country\", op=\"count\", order='descending')),\n",
    "    x= alt.X('count()', stack=\"normalize\"),\n",
    "    color='income'\n",
    ")\n",
    "\n",
    "country = (country_normd).properties(\n",
    " title=\"Native Country\",\n",
    ")\n",
    "country"
   ]
  },
  {
   "cell_type": "code",
   "execution_count": null,
   "id": "19289173",
   "metadata": {
    "scrolled": false
   },
   "outputs": [],
   "source": [
    "maritalstatus_normd =  alt.Chart(df).mark_bar().encode(\n",
    "    alt.Y(\"marital-status:O\", sort=alt.EncodingSortField(field=\"marital-status\", op=\"count\", order='descending')),\n",
    "    x= alt.X('count()', stack=\"normalize\"),\n",
    "    color='income'\n",
    ")\n",
    "\n",
    "maritalstatus = (maritalstatus_normd).properties(\n",
    " title=\"Marital Status\",\n",
    ")\n",
    "maritalstatus"
   ]
  },
  {
   "cell_type": "code",
   "execution_count": null,
   "id": "bd6139a0",
   "metadata": {
    "scrolled": true
   },
   "outputs": [],
   "source": [
    "relationship_normd =  alt.Chart(df).mark_bar().encode(\n",
    "    alt.Y(\"relationship:O\", sort=alt.EncodingSortField(field=\"relationship\", op=\"count\", order='descending')),\n",
    "    x= alt.X('count()', stack=\"normalize\"),\n",
    "    color='income'\n",
    ")\n",
    "\n",
    "relationship = (relationship_normd).properties(\n",
    " title=\"Relationship\",\n",
    ")\n",
    "relationship"
   ]
  },
  {
   "cell_type": "code",
   "execution_count": null,
   "id": "5726962d",
   "metadata": {},
   "outputs": [],
   "source": [
    "edu_normd =  alt.Chart(df).mark_bar().encode(\n",
    "    alt.Y(\"education:N\", sort=alt.EncodingSortField(field=\"education\", op=\"count\", order='descending')),\n",
    "    x= alt.X('count()', stack=\"normalize\"),\n",
    "    color='income'\n",
    ")\n",
    "\n",
    "edu = (edu_normd).properties(\n",
    " title=\"Education\",\n",
    ")\n",
    "edu"
   ]
  },
  {
   "cell_type": "markdown",
   "id": "cc810b0a",
   "metadata": {},
   "source": [
    "### Good News, the normalized graphs confirm the conclusions we came to earlier\n"
   ]
  }
 ],
 "metadata": {
  "kernelspec": {
   "display_name": "Python 3 (ipykernel)",
   "language": "python",
   "name": "python3"
  },
  "language_info": {
   "codemirror_mode": {
    "name": "ipython",
    "version": 3
   },
   "file_extension": ".py",
   "mimetype": "text/x-python",
   "name": "python",
   "nbconvert_exporter": "python",
   "pygments_lexer": "ipython3",
   "version": "3.9.9"
  }
 },
 "nbformat": 4,
 "nbformat_minor": 5
}
